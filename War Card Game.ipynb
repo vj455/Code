{
 "cells": [
  {
   "cell_type": "markdown",
   "metadata": {},
   "source": [
    "<H1> CARD CLASS"
   ]
  },
  {
   "cell_type": "code",
   "execution_count": 90,
   "metadata": {},
   "outputs": [],
   "source": [
    "import random\n",
    "# Define Global Variables\n",
    "\n",
    "# Create as tuples so its immutable(Cannot Change)\n",
    "suits = ('Hearts', 'Diamonds', 'Spades', 'Clubs') \n",
    "ranks = ('Two', 'Three', 'Four', 'Five', 'Six', 'Seven', 'Eight', 'Nine', 'Ten', 'Jack', 'Queen', 'King', 'Ace')\n",
    "\n",
    "#Create Dictionary for getting integer values of card ranks \n",
    "values = {'Two':2, 'Three':3, 'Four':4, 'Five':5, 'Six':6, 'Seven':7, 'Eight':8, \n",
    "            'Nine':9, 'Ten':10, 'Jack':11, 'Queen':12, 'King':13, 'Ace':14}"
   ]
  },
  {
   "cell_type": "code",
   "execution_count": 91,
   "metadata": {},
   "outputs": [],
   "source": [
    "class Card:\n",
    "    \n",
    "    def __init__(self, suit, rank):\n",
    "        \n",
    "        self.suit = suit\n",
    "        self.rank = rank\n",
    "        self.value = values[rank]\n",
    "        \n",
    "    def __str__(self): # In case of print statements, returns what value does the object hold in the memory location\n",
    "        \n",
    "        return self.suit + \" of \" + self.rank"
   ]
  },
  {
   "cell_type": "markdown",
   "metadata": {},
   "source": [
    "Step 2: Now that the cards have been created, its time to create a deck of cards and have the functionality to deal the cards to the players. \n",
    "\n",
    "In this step we will create a Deck class, to create a new deck. This deck will contain methods to shuffle the deck for random card distribution and another method to deal cards to the players. "
   ]
  },
  {
   "cell_type": "markdown",
   "metadata": {},
   "source": [
    "<H1> DECK CLASS"
   ]
  },
  {
   "cell_type": "code",
   "execution_count": 92,
   "metadata": {},
   "outputs": [],
   "source": [
    "#Create Deck Class\n",
    "\n",
    "class Deck:\n",
    "    \n",
    "    def __init__(self):\n",
    "        \n",
    "        self.all_cards = []\n",
    "        \n",
    "        for suit in suits:\n",
    "            for rank in ranks:\n",
    "                \n",
    "                created_card = Card(suit, rank) #Instantiate an object of the Card class to create a Card object\n",
    "                \n",
    "                self.all_cards.append(created_card) #Append the card created to the list\n",
    "                \n",
    "    #Shuffle the new deck of cards    \n",
    "    \n",
    "    def shuffle_deck(self):\n",
    "        \n",
    "        return random.shuffle(self.all_cards)\n",
    "    \n",
    "    def deal_one(self):\n",
    "        \n",
    "        return self.all_cards.pop()\n",
    "    \n",
    "    "
   ]
  },
  {
   "cell_type": "code",
   "execution_count": 93,
   "metadata": {},
   "outputs": [],
   "source": [
    "new_deck = Deck()"
   ]
  },
  {
   "cell_type": "code",
   "execution_count": 94,
   "metadata": {},
   "outputs": [
    {
     "name": "stdout",
     "output_type": "stream",
     "text": [
      "Hearts of Two\n"
     ]
    }
   ],
   "source": [
    "first_card = new_deck.all_cards[0]\n",
    "print(first_card)"
   ]
  },
  {
   "cell_type": "markdown",
   "metadata": {},
   "source": [
    "As seen above the new deck is created. \n",
    "\n",
    "\"new_deck\" is an instance of the Deck class. \n",
    "\n",
    "first_card is an object of the all cards attribute\n",
    "\n",
    "Below we will call the shuffle method and see the affect on the deck of card. "
   ]
  },
  {
   "cell_type": "code",
   "execution_count": 95,
   "metadata": {},
   "outputs": [],
   "source": [
    "new_deck.shuffle_deck()"
   ]
  },
  {
   "cell_type": "code",
   "execution_count": 96,
   "metadata": {},
   "outputs": [
    {
     "name": "stdout",
     "output_type": "stream",
     "text": [
      "Diamonds of Eight\n"
     ]
    }
   ],
   "source": [
    "first_card = new_deck.all_cards[0]\n",
    "print(first_card)"
   ]
  },
  {
   "cell_type": "markdown",
   "metadata": {},
   "source": [
    "As seen above, after calling the shuffle method the first card in the deck has been shuffled and replaced by a Clubs of Five.\n",
    "\n",
    "We will now assign a card to see if the length of the deck gets altered as we call the Deal One method. "
   ]
  },
  {
   "cell_type": "code",
   "execution_count": 97,
   "metadata": {},
   "outputs": [],
   "source": [
    "card1 = new_deck.deal_one()"
   ]
  },
  {
   "cell_type": "code",
   "execution_count": 98,
   "metadata": {},
   "outputs": [
    {
     "name": "stdout",
     "output_type": "stream",
     "text": [
      "Hearts of Eight\n",
      "51\n"
     ]
    }
   ],
   "source": [
    "print(card1)\n",
    "print(len(new_deck.all_cards))"
   ]
  },
  {
   "cell_type": "markdown",
   "metadata": {},
   "source": [
    "As seen, when we call the deal one method to draw a card, the length of the deck of cards has been altered to 51 from the regular deck of cards of 52. "
   ]
  },
  {
   "cell_type": "markdown",
   "metadata": {},
   "source": [
    "<H1> PLAYER CLASS"
   ]
  },
  {
   "cell_type": "code",
   "execution_count": 99,
   "metadata": {},
   "outputs": [],
   "source": [
    "class Player:\n",
    "    \n",
    "    def __init__(self, name):\n",
    "        \n",
    "        self.name = name\n",
    "        self.all_cards = []\n",
    "        \n",
    "    def remove_one(self):\n",
    "        \n",
    "        return self.all_cards.pop(0)\n",
    "    \n",
    "    def add_cards(self, new_cards):\n",
    "        \n",
    "        if type(new_cards) == type([]):\n",
    "            self.all_cards.extend(new_cards)\n",
    "            \n",
    "        else:\n",
    "            self.all_cards.append(new_cards)\n",
    "            \n",
    "    def __str__(self):\n",
    "        \n",
    "        return f' Player {self.name} has {len(self.all_cards)} card(s). '"
   ]
  },
  {
   "cell_type": "code",
   "execution_count": 100,
   "metadata": {},
   "outputs": [],
   "source": [
    "new_player = Player('Jose')"
   ]
  },
  {
   "cell_type": "code",
   "execution_count": 101,
   "metadata": {},
   "outputs": [
    {
     "data": {
      "text/plain": [
       "<__main__.Player at 0x11132c320>"
      ]
     },
     "execution_count": 101,
     "metadata": {},
     "output_type": "execute_result"
    }
   ],
   "source": [
    "new_player"
   ]
  },
  {
   "cell_type": "code",
   "execution_count": 102,
   "metadata": {},
   "outputs": [
    {
     "name": "stdout",
     "output_type": "stream",
     "text": [
      " Player Jose has 0 card(s). \n"
     ]
    }
   ],
   "source": [
    "print(new_player)"
   ]
  },
  {
   "cell_type": "code",
   "execution_count": 103,
   "metadata": {},
   "outputs": [],
   "source": [
    "new_player.add_cards(card1)"
   ]
  },
  {
   "cell_type": "code",
   "execution_count": 104,
   "metadata": {},
   "outputs": [
    {
     "name": "stdout",
     "output_type": "stream",
     "text": [
      " Player Jose has 1 card(s). \n"
     ]
    }
   ],
   "source": [
    "print(new_player)"
   ]
  },
  {
   "cell_type": "code",
   "execution_count": 105,
   "metadata": {},
   "outputs": [
    {
     "name": "stdout",
     "output_type": "stream",
     "text": [
      "Hearts of Eight\n"
     ]
    }
   ],
   "source": [
    "print(new_player.all_cards[0])"
   ]
  },
  {
   "cell_type": "code",
   "execution_count": 106,
   "metadata": {},
   "outputs": [],
   "source": [
    "new_player.add_cards([card1, card1, card1])"
   ]
  },
  {
   "cell_type": "code",
   "execution_count": 107,
   "metadata": {},
   "outputs": [
    {
     "name": "stdout",
     "output_type": "stream",
     "text": [
      "Hearts of Eight Hearts of Eight\n"
     ]
    }
   ],
   "source": [
    "print(new_player.all_cards[0], new_player.all_cards[1])"
   ]
  },
  {
   "cell_type": "code",
   "execution_count": 108,
   "metadata": {},
   "outputs": [
    {
     "name": "stdout",
     "output_type": "stream",
     "text": [
      " Player Jose has 4 card(s). \n"
     ]
    }
   ],
   "source": [
    "print(new_player)"
   ]
  },
  {
   "cell_type": "code",
   "execution_count": 109,
   "metadata": {},
   "outputs": [
    {
     "data": {
      "text/plain": [
       "<__main__.Card at 0x111333080>"
      ]
     },
     "execution_count": 109,
     "metadata": {},
     "output_type": "execute_result"
    }
   ],
   "source": [
    "new_player.remove_one()"
   ]
  },
  {
   "cell_type": "code",
   "execution_count": 110,
   "metadata": {},
   "outputs": [
    {
     "name": "stdout",
     "output_type": "stream",
     "text": [
      " Player Jose has 3 card(s). \n"
     ]
    }
   ],
   "source": [
    "print(new_player)"
   ]
  },
  {
   "cell_type": "markdown",
   "metadata": {},
   "source": [
    "<H3> Test </H3>\n",
    "\n",
    "\n",
    "With the above different calls to different methods, we have been able to produce working methods what a player might be needing to do while playing the card game. \n",
    "\n",
    "From here onwards we will move towards working on the game logic"
   ]
  },
  {
   "cell_type": "markdown",
   "metadata": {},
   "source": [
    "<H2> Game Logic"
   ]
  },
  {
   "cell_type": "code",
   "execution_count": 120,
   "metadata": {},
   "outputs": [],
   "source": [
    "#Set up the game with initializing the two players and new decks\n",
    "\n",
    "game_on = True\n",
    "\n",
    "P1 = Player('P1')\n",
    "P2 = Player('P2')\n",
    "\n",
    "#Setup a new deck and shuffle the deck\n",
    "\n",
    "new_deck = Deck()\n",
    "new_deck.shuffle_deck()\n",
    "\n",
    "#Split the deck into 2 parts between the 2 players\n",
    "\n",
    "for _ in range(26):\n",
    "    P1.add_cards(new_deck.deal_one())\n",
    "    P2.add_cards(new_deck.deal_one())"
   ]
  },
  {
   "cell_type": "code",
   "execution_count": 121,
   "metadata": {},
   "outputs": [
    {
     "name": "stdout",
     "output_type": "stream",
     "text": [
      "Round 1\n",
      "Round 2\n",
      "Round 3\n",
      "Round 4\n",
      "Round 5\n",
      "Round 6\n",
      "Round 7\n",
      "Round 8\n",
      "Round 9\n",
      "Round 10\n",
      "Round 11\n",
      "Round 12\n",
      "Round 13\n",
      "Round 14\n",
      "Round 15\n",
      "Round 16\n",
      "Round 17\n",
      "Round 18\n",
      "Round 19\n",
      "Round 20\n",
      "Round 21\n",
      "Round 22\n",
      "Round 23\n",
      "Round 24\n",
      "Round 25\n",
      "Round 26\n",
      "Round 27\n",
      "Round 28\n",
      "Round 29\n",
      "Round 30\n",
      "Round 31\n",
      "Round 32\n",
      "Round 33\n",
      "Round 34\n",
      "Round 35\n",
      "Round 36\n",
      "Round 37\n",
      "Round 38\n",
      "Round 39\n",
      "WAR!!!\n",
      "Round 40\n",
      "Round 41\n",
      "Round 42\n",
      "Round 43\n",
      "Round 44\n",
      "Round 45\n",
      "Round 46\n",
      "Round 47\n",
      "Round 48\n",
      "Round 49\n",
      "Round 50\n",
      "WAR!!!\n",
      "Round 51\n",
      "Round 52\n",
      "WAR!!!\n",
      "Round 53\n",
      "Round 54\n",
      "Round 55\n",
      "Round 56\n",
      "Round 57\n",
      "Round 58\n",
      "Round 59\n",
      "Round 60\n",
      "Round 61\n",
      "Round 62\n",
      "Round 63\n",
      "Round 64\n",
      "Round 65\n",
      "Round 66\n",
      "Round 67\n",
      "Round 68\n",
      "Round 69\n",
      "Round 70\n",
      "Round 71\n",
      "Round 72\n",
      "Round 73\n",
      "Round 74\n",
      "Round 75\n",
      "Round 76\n",
      "Round 77\n",
      "Round 78\n",
      "Round 79\n",
      "Round 80\n",
      "Round 81\n",
      "Round 82\n",
      "Round 83\n",
      "Round 84\n",
      "Round 85\n",
      "Round 86\n",
      "Round 87\n",
      "Round 88\n",
      "Round 89\n",
      "Round 90\n",
      "WAR!!!\n",
      "Round 91\n",
      "Round 92\n",
      "Round 93\n",
      "Round 94\n",
      "Round 95\n",
      "Round 96\n",
      "Round 97\n",
      "Round 98\n",
      "Round 99\n",
      "Round 100\n",
      "Round 101\n",
      "Round 102\n",
      "Round 103\n",
      "Round 104\n",
      "Round 105\n",
      "Round 106\n",
      "Round 107\n",
      "Round 108\n",
      "Round 109\n",
      "Round 110\n",
      "Round 111\n",
      "Round 112\n",
      "Round 113\n",
      "Round 114\n",
      "Round 115\n",
      "Round 116\n",
      "Round 117\n",
      "Round 118\n",
      "Round 119\n",
      "Round 120\n",
      "Round 121\n",
      "Round 122\n",
      "Round 123\n",
      "Round 124\n",
      "Round 125\n",
      "Round 126\n",
      "Round 127\n",
      "Round 128\n",
      "Round 129\n",
      "Round 130\n",
      "Round 131\n",
      "Round 132\n",
      "Round 133\n",
      "Round 134\n",
      "Round 135\n",
      "Round 136\n",
      "Round 137\n",
      "Round 138\n",
      "Round 139\n",
      "Round 140\n",
      "Round 141\n",
      "Round 142\n",
      "Round 143\n",
      "Round 144\n",
      "Round 145\n",
      "Round 146\n",
      "Round 147\n",
      "Round 148\n",
      "Round 149\n",
      "Round 150\n",
      "Round 151\n",
      "WAR!!!\n",
      "Round 152\n",
      "Round 153\n",
      "Round 154\n",
      "Round 155\n",
      "Round 156\n",
      "Round 157\n",
      "Round 158\n",
      "Round 159\n",
      "Round 160\n",
      "Round 161\n",
      "Round 162\n",
      "Round 163\n",
      "Round 164\n",
      "Round 165\n",
      "Round 166\n",
      "Round 167\n",
      "Round 168\n",
      "Round 169\n",
      "Round 170\n",
      "Round 171\n",
      "Round 172\n",
      "Round 173\n",
      "Round 174\n",
      "Round 175\n",
      "Round 176\n",
      "Round 177\n",
      "Round 178\n",
      "Round 179\n",
      "Round 180\n",
      "Round 181\n",
      "Round 182\n",
      "Round 183\n",
      "Round 184\n",
      "WAR!!!\n",
      "Round 185\n",
      "Player 1 Loses the game. PLAYER 2 WINS!!!\n"
     ]
    }
   ],
   "source": [
    "# WHILE GAME is ON\n",
    "\n",
    "rounds = 0\n",
    "\n",
    "game_on = True\n",
    "\n",
    "while game_on:\n",
    "    \n",
    "    #Add cards to compare every time a new card is drawn\n",
    "    rounds += 1\n",
    "    \n",
    "    print(f'Round {rounds}')\n",
    "    Player_1_cards = []\n",
    "    Player_1_cards.append(P1.remove_one())\n",
    "    \n",
    "    Player_2_cards = []\n",
    "    Player_2_cards.append(P2.remove_one())\n",
    "    #First time every time the round begins check if either player has less than 5 cards and end game if so\n",
    "    \n",
    "    if len(P1.all_cards) < 5:\n",
    "        \n",
    "        print(\"Player 1 Loses the game. PLAYER 2 WINS!!!\")\n",
    "        game_on = False\n",
    "        break\n",
    "    \n",
    "    if len(P2.all_cards) < 5:\n",
    "        \n",
    "        print(\"Player 2 Loses the game. Player 1 WINS!!!\")\n",
    "        game_on = False\n",
    "        break\n",
    "        \n",
    "    at_war = True\n",
    "    \n",
    "    while at_war:\n",
    "        \n",
    "        if Player_1_cards[-1].value < Player_2_cards[-1].value:\n",
    "            P2.add_cards(Player_1_cards)\n",
    "            P2.add_cards(Player_2_cards)\n",
    "            at_war = False\n",
    "            break\n",
    "            \n",
    "        elif Player_1_cards[-1].value > Player_2_cards[-1].value:\n",
    "            P1.add_cards(Player_1_cards)\n",
    "            P1.add_cards(Player_2_cards)\n",
    "            at_war = False\n",
    "            break\n",
    "            \n",
    "        else:\n",
    "            \n",
    "            print(\"WAR!!!\")\n",
    "            \n",
    "            if len(P1.all_cards) < 5:\n",
    "                print(\"Player 1 loses. Player 2 Wins\")\n",
    "                game_on = False\n",
    "                break\n",
    "            elif len(P2.all_cards) < 5:\n",
    "                print(\"Player 2 loses. Player 1 wins\")\n",
    "                game_on = False\n",
    "                break\n",
    "            else: \n",
    "                for _ in range(5):\n",
    "                    Player_1_cards.append(P1.remove_one())\n",
    "                    Player_2_cards.append(P2.remove_one())\n",
    "    "
   ]
  },
  {
   "cell_type": "code",
   "execution_count": null,
   "metadata": {},
   "outputs": [],
   "source": []
  }
 ],
 "metadata": {
  "kernelspec": {
   "display_name": "Python 3",
   "language": "python",
   "name": "python3"
  },
  "language_info": {
   "codemirror_mode": {
    "name": "ipython",
    "version": 3
   },
   "file_extension": ".py",
   "mimetype": "text/x-python",
   "name": "python",
   "nbconvert_exporter": "python",
   "pygments_lexer": "ipython3",
   "version": "3.7.1"
  }
 },
 "nbformat": 4,
 "nbformat_minor": 2
}
