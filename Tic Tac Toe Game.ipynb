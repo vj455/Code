{
 "cells": [
  {
   "cell_type": "markdown",
   "metadata": {},
   "source": [
    "                                    First Code Challenge\n",
    "                                    \n",
    "The Code below is for creating a game of Tic Tac Toe with user inputs. \n",
    "\n",
    "Steps to Follow:\n",
    "\n",
    "- Create a Board. The board positions work that as a number pad on a laptop. \n",
    "  789\n",
    "  456\n",
    "  123\n",
    "  \n",
    "  The numbering can be changed, reversed as per preference\n",
    "- Take Input from Player 1. Assign the other marker to Player 2\n",
    "- Place the marker based on the position provided by the User\n",
    "- Check the winning condition. If the marker is consistently placed along 3 horizontal, vertical or diagnol cell, declare the marker holder the winner of the game\n",
    "- Randomize which Player gets to go first (Optional)\n",
    "- Check if there is an empty space at the position number provided by the player\n",
    "- Full board Check. Check if the board is full. If no winner, declare a draw. \n",
    "- Ask for Replay\n",
    "                               "
   ]
  },
  {
   "cell_type": "code",
   "execution_count": 109,
   "metadata": {},
   "outputs": [],
   "source": [
    "# Define a board. Make it pretty as per liking with additional piping and dashes\n",
    "def tic_tac_board(board_list):\n",
    "    \n",
    "    #clear_output()\n",
    "    \n",
    "    print(board_list[7]+ ' ' + '|' + ' ' + board_list[8]+ ' ' + '|' + ' ' + board_list[9])\n",
    "    print('---------')\n",
    "    print(board_list[4]+ ' ' + '|' + ' ' + board_list[5]+ ' ' + '|' + ' ' + board_list[6])\n",
    "    print('---------')\n",
    "    print(board_list[1]+ ' ' + '|' + ' ' + board_list[2]+ ' ' + '|' + ' ' + board_list[3])"
   ]
  },
  {
   "cell_type": "code",
   "execution_count": 110,
   "metadata": {},
   "outputs": [
    {
     "name": "stdout",
     "output_type": "stream",
     "text": [
      "  |   |  \n",
      "---------\n",
      "  |   |  \n",
      "---------\n",
      "  |   |  \n"
     ]
    }
   ],
   "source": [
    "test_board = ['X',' ',' ',' ',' ',' ',' ',' ',' ',' ']\n",
    "\n",
    "tic_tac_board(test_board)"
   ]
  },
  {
   "cell_type": "code",
   "execution_count": 111,
   "metadata": {},
   "outputs": [],
   "source": [
    "def user_choice_X_O():\n",
    "    \n",
    "    #Declare Variables for setting up the While Loop condition\n",
    "    #Ask Player 1\n",
    "    marker = ''\n",
    "    \n",
    "    #While loop while either of the conditions are not met, we want to keep looping and asking for the digit in range\n",
    "    while marker not in('X','O'):\n",
    "        \n",
    "        marker = input('Player 1, Please choose a marker \"X\" or \"O\": ').upper()\n",
    "    \n",
    "    player1 = marker\n",
    "    #\n",
    "    if player1 == 'X':\n",
    "        player2 = 'O'\n",
    "    else:\n",
    "        player2 = 'X' \n",
    "    \n",
    "    return player1, player2      #Return once all conditions are met and the while loop breaks\n",
    "            "
   ]
  },
  {
   "cell_type": "code",
   "execution_count": 112,
   "metadata": {},
   "outputs": [],
   "source": [
    "from IPython.display import clear_output\n",
    "\n",
    "def place_marker(board, marker, position):\n",
    "    board[position] = marker   \n",
    "            "
   ]
  },
  {
   "cell_type": "code",
   "execution_count": 113,
   "metadata": {},
   "outputs": [],
   "source": [
    "place_marker(test_board, 'X',8)"
   ]
  },
  {
   "cell_type": "code",
   "execution_count": 114,
   "metadata": {},
   "outputs": [
    {
     "name": "stdout",
     "output_type": "stream",
     "text": [
      "  | X |  \n",
      "---------\n",
      "  |   |  \n",
      "---------\n",
      "  |   |  \n"
     ]
    }
   ],
   "source": [
    "tic_tac_board(test_board)"
   ]
  },
  {
   "cell_type": "code",
   "execution_count": 115,
   "metadata": {},
   "outputs": [],
   "source": [
    "def win_check(board, mark):\n",
    "    return ((board[7] == mark and board[8] == mark and board[9] == mark) or # across the top\n",
    "    (board[4] == mark and board[5] == mark and board[6] == mark) or # across the middle\n",
    "    (board[1] == mark and board[2] == mark and board[3] == mark) or # across the bottom\n",
    "    (board[7] == mark and board[4] == mark and board[1] == mark) or # down the middle\n",
    "    (board[8] == mark and board[5] == mark and board[2] == mark) or # down the middle\n",
    "    (board[9] == mark and board[6] == mark and board[3] == mark) or # down the right side\n",
    "    (board[7] == mark and board[5] == mark and board[3] == mark) or # diagonal\n",
    "    (board[9] == mark and board[5] == mark and board[1] == mark)) # diagonal"
   ]
  },
  {
   "cell_type": "code",
   "execution_count": 116,
   "metadata": {},
   "outputs": [
    {
     "data": {
      "text/plain": [
       "False"
      ]
     },
     "execution_count": 116,
     "metadata": {},
     "output_type": "execute_result"
    }
   ],
   "source": [
    "win_check(test_board, 'O')"
   ]
  },
  {
   "cell_type": "code",
   "execution_count": 117,
   "metadata": {},
   "outputs": [],
   "source": [
    "import random\n",
    "\n",
    "def choose_first():\n",
    "    if random.randint(0,1) == 0:\n",
    "        return 'Player 2'\n",
    "    else:\n",
    "        return 'Player 1'"
   ]
  },
  {
   "cell_type": "code",
   "execution_count": 118,
   "metadata": {},
   "outputs": [
    {
     "data": {
      "text/plain": [
       "'Player 2'"
      ]
     },
     "execution_count": 118,
     "metadata": {},
     "output_type": "execute_result"
    }
   ],
   "source": [
    "choose_first()"
   ]
  },
  {
   "cell_type": "code",
   "execution_count": 119,
   "metadata": {},
   "outputs": [],
   "source": [
    "def space_check(board, position):\n",
    "    \n",
    "    return board[position] == ' '"
   ]
  },
  {
   "cell_type": "code",
   "execution_count": 120,
   "metadata": {},
   "outputs": [],
   "source": [
    "def full_board_check(board):\n",
    "    for i in range(1, 10):\n",
    "        if space_check(board,i):\n",
    "            return False\n",
    "    return True"
   ]
  },
  {
   "cell_type": "code",
   "execution_count": 121,
   "metadata": {},
   "outputs": [],
   "source": [
    "def player_choice(board):\n",
    "    position = 0\n",
    "    \n",
    "    while position not in [1,2,3,4,5,6,7,8,9] or not space_check(board, position):\n",
    "        position = int(input('Choose your next position: (1-9): '))\n",
    "        \n",
    "    return position"
   ]
  },
  {
   "cell_type": "code",
   "execution_count": 122,
   "metadata": {},
   "outputs": [],
   "source": [
    "def replay():\n",
    "    return input('Do you want to play again? Enter Yes or No: ').lower().startswith('y')"
   ]
  },
  {
   "cell_type": "code",
   "execution_count": null,
   "metadata": {},
   "outputs": [
    {
     "name": "stdout",
     "output_type": "stream",
     "text": [
      "Welcome to Tic Tac Toe!!!\n",
      "Player 1, Please choose a marker \"X\" or \"O\": x\n",
      "Player 2 will go first!\n",
      "Are you ready to play the game? Y or NY\n",
      "  |   |  \n",
      "---------\n",
      "  |   |  \n",
      "---------\n",
      "  |   |  \n"
     ]
    }
   ],
   "source": [
    "print(\"Welcome to Tic Tac Toe!!!\")\n",
    "\n",
    "while True:\n",
    "    #Reset the board\n",
    "    \n",
    "    board_lst = [\" \"] * 10\n",
    "    Player1, Player2 = user_choice_X_O()\n",
    "    turn = choose_first()\n",
    "    print(turn + \" will go first!\")\n",
    "    \n",
    "    play_game = input('Are you ready to play the game? Y or N')\n",
    "    \n",
    "    if play_game.lower()[0] == 'y':\n",
    "        game_on = True\n",
    "    else:\n",
    "        game_on = False\n",
    "        \n",
    "    while game_on:\n",
    "        if turn == 'Player 1':\n",
    "            tic_tac_board(board_lst)\n",
    "            position = player_choice(board_lst)\n",
    "            place_marker(board_lst, Player1, position)\n",
    "            \n",
    "            if win_check(board_lst, Player1):\n",
    "                tic_tac_board(board_lst)\n",
    "                print(\"Congratulations Player 1 !! You have won the game\")\n",
    "                game_on = False\n",
    "            else:\n",
    "                if full_board_check(board_lst):\n",
    "                    tic_tac_board(board_lst)\n",
    "                    print(\"The game is a draw\")\n",
    "                    break\n",
    "                else:\n",
    "                    turn = 'Player 2'\n",
    "        else:\n",
    "            \n",
    "            tic_tac_board(board_lst)\n",
    "            position = player_choice(board_lst)\n",
    "            place_marker(board_lst, Player2, position)\n",
    "            \n",
    "            if win_check(board_lst, Player2):\n",
    "                tic_tac_board(board_lst)\n",
    "                print(\"Congratulations Player 2 !! You have won the game\")\n",
    "                game_on = False\n",
    "            else:\n",
    "                if full_board_check(board_lst):\n",
    "                    tic_tac_board(board_lst)\n",
    "                    print(\"The game is a draw\")\n",
    "                    break\n",
    "                else:\n",
    "                    turn = 'Player 1'\n",
    "                    \n",
    "    if not replay():\n",
    "            break"
   ]
  },
  {
   "cell_type": "code",
   "execution_count": null,
   "metadata": {},
   "outputs": [],
   "source": []
  }
 ],
 "metadata": {
  "kernelspec": {
   "display_name": "Python 3",
   "language": "python",
   "name": "python3"
  }
 },
 "nbformat": 4,
 "nbformat_minor": 2
}
